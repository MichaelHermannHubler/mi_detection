{
 "cells": [
  {
   "cell_type": "code",
   "execution_count": 12,
   "metadata": {},
   "outputs": [],
   "source": [
    "import Utils as utl\n",
    "import seaborn as sns\n",
    "import matplotlib.pyplot as plt"
   ]
  },
  {
   "cell_type": "markdown",
   "metadata": {},
   "source": [
    "# PTBL-XL"
   ]
  },
  {
   "cell_type": "code",
   "execution_count": 2,
   "metadata": {},
   "outputs": [
    {
     "name": "stdout",
     "output_type": "stream",
     "text": [
      "Load Metadata\n",
      "Convert SCP Codes\n"
     ]
    }
   ],
   "source": [
    "meta = utl.loadPTBXL()"
   ]
  },
  {
   "cell_type": "code",
   "execution_count": 3,
   "metadata": {},
   "outputs": [
    {
     "data": {
      "text/html": [
       "<div>\n",
       "<style scoped>\n",
       "    .dataframe tbody tr th:only-of-type {\n",
       "        vertical-align: middle;\n",
       "    }\n",
       "\n",
       "    .dataframe tbody tr th {\n",
       "        vertical-align: top;\n",
       "    }\n",
       "\n",
       "    .dataframe thead th {\n",
       "        text-align: right;\n",
       "    }\n",
       "</style>\n",
       "<table border=\"1\" class=\"dataframe\">\n",
       "  <thead>\n",
       "    <tr style=\"text-align: right;\">\n",
       "      <th></th>\n",
       "      <th>ecg_id</th>\n",
       "      <th>patient_id</th>\n",
       "      <th>age</th>\n",
       "      <th>sex</th>\n",
       "      <th>height</th>\n",
       "      <th>weight</th>\n",
       "      <th>scp_codes</th>\n",
       "      <th>strat_fold</th>\n",
       "      <th>filename_lr</th>\n",
       "      <th>filename_hr</th>\n",
       "      <th>...</th>\n",
       "      <th>CLBBB</th>\n",
       "      <th>LAO/LAE</th>\n",
       "      <th>ISCI</th>\n",
       "      <th>LMI</th>\n",
       "      <th>RVH</th>\n",
       "      <th>RAO/RAE</th>\n",
       "      <th>WPW</th>\n",
       "      <th>ILBBB</th>\n",
       "      <th>SEHYP</th>\n",
       "      <th>PMI</th>\n",
       "    </tr>\n",
       "  </thead>\n",
       "  <tbody>\n",
       "    <tr>\n",
       "      <th>0</th>\n",
       "      <td>1</td>\n",
       "      <td>15709.0</td>\n",
       "      <td>56.0</td>\n",
       "      <td>1</td>\n",
       "      <td>NaN</td>\n",
       "      <td>63.0</td>\n",
       "      <td>{'NORM': 100.0, 'LVOLT': 0.0, 'SR': 0.0}</td>\n",
       "      <td>3</td>\n",
       "      <td>records100/00000/00001_lr</td>\n",
       "      <td>records500/00000/00001_hr</td>\n",
       "      <td>...</td>\n",
       "      <td>0.0</td>\n",
       "      <td>0.0</td>\n",
       "      <td>0</td>\n",
       "      <td>0.0</td>\n",
       "      <td>0.0</td>\n",
       "      <td>0.0</td>\n",
       "      <td>0.0</td>\n",
       "      <td>0.0</td>\n",
       "      <td>0.0</td>\n",
       "      <td>0.0</td>\n",
       "    </tr>\n",
       "    <tr>\n",
       "      <th>1</th>\n",
       "      <td>2</td>\n",
       "      <td>13243.0</td>\n",
       "      <td>19.0</td>\n",
       "      <td>0</td>\n",
       "      <td>NaN</td>\n",
       "      <td>70.0</td>\n",
       "      <td>{'NORM': 80.0, 'SBRAD': 0.0}</td>\n",
       "      <td>2</td>\n",
       "      <td>records100/00000/00002_lr</td>\n",
       "      <td>records500/00000/00002_hr</td>\n",
       "      <td>...</td>\n",
       "      <td>0.0</td>\n",
       "      <td>0.0</td>\n",
       "      <td>0</td>\n",
       "      <td>0.0</td>\n",
       "      <td>0.0</td>\n",
       "      <td>0.0</td>\n",
       "      <td>0.0</td>\n",
       "      <td>0.0</td>\n",
       "      <td>0.0</td>\n",
       "      <td>0.0</td>\n",
       "    </tr>\n",
       "    <tr>\n",
       "      <th>2</th>\n",
       "      <td>3</td>\n",
       "      <td>20372.0</td>\n",
       "      <td>37.0</td>\n",
       "      <td>1</td>\n",
       "      <td>NaN</td>\n",
       "      <td>69.0</td>\n",
       "      <td>{'NORM': 100.0, 'SR': 0.0}</td>\n",
       "      <td>5</td>\n",
       "      <td>records100/00000/00003_lr</td>\n",
       "      <td>records500/00000/00003_hr</td>\n",
       "      <td>...</td>\n",
       "      <td>0.0</td>\n",
       "      <td>0.0</td>\n",
       "      <td>0</td>\n",
       "      <td>0.0</td>\n",
       "      <td>0.0</td>\n",
       "      <td>0.0</td>\n",
       "      <td>0.0</td>\n",
       "      <td>0.0</td>\n",
       "      <td>0.0</td>\n",
       "      <td>0.0</td>\n",
       "    </tr>\n",
       "    <tr>\n",
       "      <th>3</th>\n",
       "      <td>4</td>\n",
       "      <td>17014.0</td>\n",
       "      <td>24.0</td>\n",
       "      <td>0</td>\n",
       "      <td>NaN</td>\n",
       "      <td>82.0</td>\n",
       "      <td>{'NORM': 100.0, 'SR': 0.0}</td>\n",
       "      <td>3</td>\n",
       "      <td>records100/00000/00004_lr</td>\n",
       "      <td>records500/00000/00004_hr</td>\n",
       "      <td>...</td>\n",
       "      <td>0.0</td>\n",
       "      <td>0.0</td>\n",
       "      <td>0</td>\n",
       "      <td>0.0</td>\n",
       "      <td>0.0</td>\n",
       "      <td>0.0</td>\n",
       "      <td>0.0</td>\n",
       "      <td>0.0</td>\n",
       "      <td>0.0</td>\n",
       "      <td>0.0</td>\n",
       "    </tr>\n",
       "    <tr>\n",
       "      <th>4</th>\n",
       "      <td>5</td>\n",
       "      <td>17448.0</td>\n",
       "      <td>19.0</td>\n",
       "      <td>1</td>\n",
       "      <td>NaN</td>\n",
       "      <td>70.0</td>\n",
       "      <td>{'NORM': 100.0, 'SR': 0.0}</td>\n",
       "      <td>4</td>\n",
       "      <td>records100/00000/00005_lr</td>\n",
       "      <td>records500/00000/00005_hr</td>\n",
       "      <td>...</td>\n",
       "      <td>0.0</td>\n",
       "      <td>0.0</td>\n",
       "      <td>0</td>\n",
       "      <td>0.0</td>\n",
       "      <td>0.0</td>\n",
       "      <td>0.0</td>\n",
       "      <td>0.0</td>\n",
       "      <td>0.0</td>\n",
       "      <td>0.0</td>\n",
       "      <td>0.0</td>\n",
       "    </tr>\n",
       "  </tbody>\n",
       "</table>\n",
       "<p>5 rows × 34 columns</p>\n",
       "</div>"
      ],
      "text/plain": [
       "   ecg_id  patient_id   age  sex  height  weight  \\\n",
       "0       1     15709.0  56.0    1     NaN    63.0   \n",
       "1       2     13243.0  19.0    0     NaN    70.0   \n",
       "2       3     20372.0  37.0    1     NaN    69.0   \n",
       "3       4     17014.0  24.0    0     NaN    82.0   \n",
       "4       5     17448.0  19.0    1     NaN    70.0   \n",
       "\n",
       "                                  scp_codes  strat_fold  \\\n",
       "0  {'NORM': 100.0, 'LVOLT': 0.0, 'SR': 0.0}           3   \n",
       "1              {'NORM': 80.0, 'SBRAD': 0.0}           2   \n",
       "2                {'NORM': 100.0, 'SR': 0.0}           5   \n",
       "3                {'NORM': 100.0, 'SR': 0.0}           3   \n",
       "4                {'NORM': 100.0, 'SR': 0.0}           4   \n",
       "\n",
       "                 filename_lr                filename_hr  ...  CLBBB  LAO/LAE  \\\n",
       "0  records100/00000/00001_lr  records500/00000/00001_hr  ...    0.0      0.0   \n",
       "1  records100/00000/00002_lr  records500/00000/00002_hr  ...    0.0      0.0   \n",
       "2  records100/00000/00003_lr  records500/00000/00003_hr  ...    0.0      0.0   \n",
       "3  records100/00000/00004_lr  records500/00000/00004_hr  ...    0.0      0.0   \n",
       "4  records100/00000/00005_lr  records500/00000/00005_hr  ...    0.0      0.0   \n",
       "\n",
       "   ISCI  LMI  RVH  RAO/RAE  WPW  ILBBB  SEHYP  PMI  \n",
       "0     0  0.0  0.0      0.0  0.0    0.0    0.0  0.0  \n",
       "1     0  0.0  0.0      0.0  0.0    0.0    0.0  0.0  \n",
       "2     0  0.0  0.0      0.0  0.0    0.0    0.0  0.0  \n",
       "3     0  0.0  0.0      0.0  0.0    0.0    0.0  0.0  \n",
       "4     0  0.0  0.0      0.0  0.0    0.0    0.0  0.0  \n",
       "\n",
       "[5 rows x 34 columns]"
      ]
     },
     "execution_count": 3,
     "metadata": {},
     "output_type": "execute_result"
    }
   ],
   "source": [
    "meta.head()"
   ]
  },
  {
   "cell_type": "markdown",
   "metadata": {},
   "source": [
    "## Age"
   ]
  },
  {
   "cell_type": "code",
   "execution_count": 4,
   "metadata": {},
   "outputs": [],
   "source": [
    "meta['age_group'] = meta.apply(lambda row: utl.convertAgeToAgeBin(row['age']), axis=1)"
   ]
  },
  {
   "cell_type": "code",
   "execution_count": 23,
   "metadata": {},
   "outputs": [
    {
     "data": {
      "image/png": "[encoded data removed]",
      "text/plain": [
       "<Figure size 432x288 with 1 Axes>"
      ]
     },
     "metadata": {
      "needs_background": "light"
     },
     "output_type": "display_data"
    },
    {
     "name": "stdout",
     "output_type": "stream",
     "text": [
      "Min Age: 2.0\n",
      "Max Age: 95.0\n"
     ]
    },
    {
     "data": {
      "image/png": "[encoded data removed]",
      "text/plain": [
       "<Figure size 432x288 with 1 Axes>"
      ]
     },
     "metadata": {
      "needs_background": "light"
     },
     "output_type": "display_data"
    }
   ],
   "source": [
    "age_groups = meta.groupby('age_group').count().unstack(level=2)\n",
    "age_groups_counts = age_groups['age']\n",
    "age_groups_lists = ['< 30', '30-40', '40-50', '50-60', '60-70', '70-80', '> 80']\n",
    "\n",
    "sns.barplot(x=age_groups_lists, y=age_groups_counts)\n",
    "plt.show()\n",
    "print('Min Age:', min(meta.age))\n",
    "print('Max Age:', max(meta.age))\n",
    "\n",
    "sns.kdeplot(x=meta.age, cut=0)\n",
    "plt.show()\n",
    "#meta.age.plot(kind='kde')"
   ]
  },
  {
   "cell_type": "markdown",
   "metadata": {},
   "source": [
    "## Gender"
   ]
  },
  {
   "cell_type": "code",
   "execution_count": 60,
   "metadata": {},
   "outputs": [
    {
     "data": {
      "image/png": "[encoded data removed]",
      "text/plain": [
       "<Figure size 432x288 with 1 Axes>"
      ]
     },
     "metadata": {
      "needs_background": "light"
     },
     "output_type": "display_data"
    },
    {
     "data": {
      "image/png": "[encoded data removed]",
      "text/plain": [
       "<Figure size 432x288 with 1 Axes>"
      ]
     },
     "metadata": {
      "needs_background": "light"
     },
     "output_type": "display_data"
    },
    {
     "data": {
      "image/png": "[encoded data removed]",
      "text/plain": [
       "<Figure size 432x288 with 1 Axes>"
      ]
     },
     "metadata": {
      "needs_background": "light"
     },
     "output_type": "display_data"
    }
   ],
   "source": [
    "gender_groups = meta.groupby('sex').count().unstack(level=2)\n",
    "gender_groups_counts = gender_groups['age']\n",
    "gender_groups_lists = ['male', 'female']\n",
    "\n",
    "sns.barplot(x=gender_groups_lists, y=gender_groups_counts)\n",
    "plt.show()\n",
    "\n",
    "meta.groupby('sex').age.plot(kind='kde', xlim=(0,95), legend=True)\n",
    "plt.show()\n",
    "\n",
    "meta.groupby('sex').age_group.plot(kind='hist', alpha=0.6, legend=True)\n",
    "plt.show()"
   ]
  },
  {
   "cell_type": "code",
   "execution_count": null,
   "metadata": {},
   "outputs": [],
   "source": []
  }
 ],
 "metadata": {
  "interpreter": {
   "hash": "692c1798066cfaec6d0e51fdb2c9f789e3741dbb2b311a57abd07556df2b61e0"
  },
  "kernelspec": {
   "display_name": "Python 3.9.12 ('tensorflow')",
   "language": "python",
   "name": "python3"
  },
  "language_info": {
   "codemirror_mode": {
    "name": "ipython",
    "version": 3
   },
   "file_extension": ".py",
   "mimetype": "text/x-python",
   "name": "python",
   "nbconvert_exporter": "python",
   "pygments_lexer": "ipython3",
   "version": "3.9.12"
  },
  "orig_nbformat": 4
 },
 "nbformat": 4,
 "nbformat_minor": 2
}
